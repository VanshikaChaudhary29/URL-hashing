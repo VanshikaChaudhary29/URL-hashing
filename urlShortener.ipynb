{
 "cells": [
  {
   "cell_type": "code",
   "execution_count": 29,
   "id": "89ab6cbf",
   "metadata": {
    "scrolled": true
   },
   "outputs": [],
   "source": [
    "from pyshorteners import Shortener \n",
    "ACCESS_CODE = '72beeab671230aa52256ee13097e1af332c7f0fa'\n"
   ]
  },
  {
   "cell_type": "code",
   "execution_count": 30,
   "id": "2d7f44ee",
   "metadata": {},
   "outputs": [
    {
     "name": "stdout",
     "output_type": "stream",
     "text": [
      "Enter long URL: https://www.youtube.com/watch?v=4aE58wbXdqU\n",
      "Short URL is : https://tinyurl.com/yd2dpnc8\n"
     ]
    }
   ],
   "source": [
    "\n",
    "# Shorten long URL\n",
    "\n",
    "\n",
    "long_url = input(\"Enter long URL: \")\n",
    "url_shortener = Shortener(bitly_token = ACCESS_CODE) \n",
    "url=url_shortener.tinyurl.short(long_url)\n",
    "print (\"Short URL is : {}\".format(url))\n",
    "\n"
   ]
  },
  {
   "cell_type": "code",
   "execution_count": 31,
   "id": "4c2f0cf9",
   "metadata": {},
   "outputs": [
    {
     "name": "stdout",
     "output_type": "stream",
     "text": [
      "Enter short URL: https://tinyurl.com/yd2dpnc8\n",
      "Long URL is: https://www.youtube.com/watch?v=4aE58wbXdqU\n"
     ]
    }
   ],
   "source": [
    "#Expand short URL\n",
    "\n",
    "\n",
    "short_url = input(\"Enter short URL: \")\n",
    "url_expander = Shortener( bitly_token = ACCESS_CODE)\n",
    "url=url_expander.tinyurl.expand(short_url)\n",
    "print (\"Long URL is: {}\".format(url))\n"
   ]
  },
  {
   "cell_type": "code",
   "execution_count": null,
   "id": "a0cb7849",
   "metadata": {},
   "outputs": [],
   "source": []
  }
 ],
 "metadata": {
  "kernelspec": {
   "display_name": "Python 3 (ipykernel)",
   "language": "python",
   "name": "python3"
  },
  "language_info": {
   "codemirror_mode": {
    "name": "ipython",
    "version": 3
   },
   "file_extension": ".py",
   "mimetype": "text/x-python",
   "name": "python",
   "nbconvert_exporter": "python",
   "pygments_lexer": "ipython3",
   "version": "3.8.8"
  }
 },
 "nbformat": 4,
 "nbformat_minor": 5
}
